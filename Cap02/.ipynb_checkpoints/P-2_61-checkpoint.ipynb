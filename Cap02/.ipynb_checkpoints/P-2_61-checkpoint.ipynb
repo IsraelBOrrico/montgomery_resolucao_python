{
 "cells": [
  {
   "cell_type": "markdown",
   "metadata": {},
   "source": [
    "# Problem 61 from chapter 02\n",
    "***"
   ]
  },
  {
   "cell_type": "markdown",
   "metadata": {},
   "source": [
    "### Item a. The probability that the last digit is 0."
   ]
  },
  {
   "cell_type": "code",
   "execution_count": 1,
   "metadata": {},
   "outputs": [
    {
     "name": "stdout",
     "output_type": "stream",
     "text": [
      "The probability that the last digit is 0 is 0.10\n"
     ]
    }
   ],
   "source": [
    "P_0 = 1 / 10\n",
    "print(f'The probability that the last digit is 0 is {P_0:.2f}')"
   ]
  },
  {
   "cell_type": "markdown",
   "metadata": {},
   "source": [
    "### Item b. The probability that the last digit is greater than or equal to 5."
   ]
  },
  {
   "cell_type": "code",
   "execution_count": 2,
   "metadata": {},
   "outputs": [
    {
     "name": "stdout",
     "output_type": "stream",
     "text": [
      "The probability that the last digit is greater than or equal to 5 is 0.50\n"
     ]
    }
   ],
   "source": [
    "P_5up = 5 / 10\n",
    "print(f'The probability that the last digit is greater than or equal to 5 is {P_5up:.2f}')"
   ]
  }
 ],
 "metadata": {
  "kernelspec": {
   "display_name": "Python 3",
   "language": "python",
   "name": "python3"
  },
  "language_info": {
   "codemirror_mode": {
    "name": "ipython",
    "version": 3
   },
   "file_extension": ".py",
   "mimetype": "text/x-python",
   "name": "python",
   "nbconvert_exporter": "python",
   "pygments_lexer": "ipython3",
   "version": "3.7.6"
  }
 },
 "nbformat": 4,
 "nbformat_minor": 4
}
