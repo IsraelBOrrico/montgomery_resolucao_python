{
 "cells": [
  {
   "cell_type": "markdown",
   "metadata": {},
   "source": [
    "# Problem 65 from chapter 02\n",
    "***"
   ]
  },
  {
   "cell_type": "code",
   "execution_count": 1,
   "metadata": {},
   "outputs": [],
   "source": [
    "from pandas import DataFrame"
   ]
  },
  {
   "cell_type": "code",
   "execution_count": 7,
   "metadata": {},
   "outputs": [
    {
     "name": "stdout",
     "output_type": "stream",
     "text": [
      "               Proportions_Found\n",
      "Nickel_Charge                   \n",
      "0                           0.17\n",
      "+2                          0.35\n",
      "+3                          0.33\n",
      "+4                          0.15\n"
     ]
    }
   ],
   "source": [
    "nicd = DataFrame({'Nickel_Charge': [0, '+2', '+3', '+4'], 'Proportions_Found': [0.17, 0.35, 0.33, 0.15]})\n",
    "nicd = nicd.set_index('Nickel_Charge')\n",
    "print(nicd)"
   ]
  },
  {
   "cell_type": "markdown",
   "metadata": {},
   "source": [
    "### Item a. The probability that a cell has at least one of the positive nickel-charged optons:"
   ]
  },
  {
   "cell_type": "code",
   "execution_count": 13,
   "metadata": {},
   "outputs": [
    {
     "name": "stdout",
     "output_type": "stream",
     "text": [
      "The probability that a cell has at least one of the positive nickel-charged options is 0.83\n"
     ]
    }
   ],
   "source": [
    "P_positive = nicd.Proportions_Found[1:4].sum()\n",
    "print(f'The probability that a cell has at least one of the positive nickel-charged options is {P_positive:.2f}')"
   ]
  },
  {
   "cell_type": "markdown",
   "metadata": {},
   "source": [
    "### Item b. The probability that a cell is not composed of a positive nickel charge greater than +3:"
   ]
  },
  {
   "cell_type": "code",
   "execution_count": 15,
   "metadata": {},
   "outputs": [
    {
     "name": "stdout",
     "output_type": "stream",
     "text": [
      "The probability that a cell is not composed of a positive nickel charge greater than +3 is 0.85\n"
     ]
    }
   ],
   "source": [
    "P_until3plus = nicd.Proportions_Found[0:3].sum()\n",
    "print(f'The probability that a cell is not composed of a positive nickel charge greater than +3 is {P_until3plus:.2f}')"
   ]
  }
 ],
 "metadata": {
  "kernelspec": {
   "display_name": "Python 3",
   "language": "python",
   "name": "python3"
  },
  "language_info": {
   "codemirror_mode": {
    "name": "ipython",
    "version": 3
   },
   "file_extension": ".py",
   "mimetype": "text/x-python",
   "name": "python",
   "nbconvert_exporter": "python",
   "pygments_lexer": "ipython3",
   "version": "3.7.6"
  }
 },
 "nbformat": 4,
 "nbformat_minor": 4
}
