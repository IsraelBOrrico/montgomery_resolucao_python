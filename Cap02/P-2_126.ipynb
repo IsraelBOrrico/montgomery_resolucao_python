{
 "cells": [
  {
   "cell_type": "markdown",
   "metadata": {},
   "source": [
    "# Problem 126 from chapter 02\n",
    "***"
   ]
  },
  {
   "cell_type": "code",
   "execution_count": 2,
   "metadata": {},
   "outputs": [],
   "source": [
    "from pandas import DataFrame"
   ]
  },
  {
   "cell_type": "code",
   "execution_count": 3,
   "metadata": {},
   "outputs": [
    {
     "name": "stdout",
     "output_type": "stream",
     "text": [
      "                          Obama  Romney\n",
      "Total                                  \n",
      "No college degree (0.60)   0.52    0.45\n",
      "College graduate (0.40)    0.47    0.51\n"
     ]
    }
   ],
   "source": [
    "votes = DataFrame({'Obama': [0.52, 0.47], 'Romney': [0.45, 0.51]}, index = ['No college degree (0.60)',\n",
    "                                                                            'College graduate (0.40)'])\n",
    "votes.index.name = 'Total'\n",
    "print(votes)"
   ]
  },
  {
   "cell_type": "markdown",
   "metadata": {},
   "source": [
    "**Let then take a basis of 100 electors**"
   ]
  },
  {
   "cell_type": "code",
   "execution_count": null,
   "metadata": {},
   "outputs": [],
   "source": [
    "votes = DataFrame({'Obama': [0.52*60, 0.47*40], 'Romney': [0.45, 0.51]}, index = ['No college degree (0.60)',\n",
    "                                                                            'College graduate (0.40)'])\n",
    "votes.index.name = 'Total'\n",
    "print(votes)"
   ]
  }
 ],
 "metadata": {
  "kernelspec": {
   "display_name": "Python 3",
   "language": "python",
   "name": "python3"
  },
  "language_info": {
   "codemirror_mode": {
    "name": "ipython",
    "version": 3
   },
   "file_extension": ".py",
   "mimetype": "text/x-python",
   "name": "python",
   "nbconvert_exporter": "python",
   "pygments_lexer": "ipython3",
   "version": "3.7.6"
  }
 },
 "nbformat": 4,
 "nbformat_minor": 4
}
