{
 "cells": [
  {
   "cell_type": "markdown",
   "metadata": {},
   "source": [
    "# Problem 57 from chapter 02\n",
    "***"
   ]
  },
  {
   "cell_type": "code",
   "execution_count": 1,
   "metadata": {},
   "outputs": [],
   "source": [
    "from pandas import DataFrame"
   ]
  },
  {
   "cell_type": "code",
   "execution_count": 3,
   "metadata": {},
   "outputs": [
    {
     "name": "stdout",
     "output_type": "stream",
     "text": [
      "            Complete_Response  Total\n",
      "Ribavirin                  16     21\n",
      "Interferon                  6     19\n",
      "Untreated                   0     20\n"
     ]
    }
   ],
   "source": [
    "patients = DataFrame({'Complete_Response': [16, 6, 0], 'Total': [21, 19, 20]}, index = ['Ribavirin', 'Interferon', 'Untreated'])\n",
    "print(patients)"
   ]
  },
  {
   "cell_type": "markdown",
   "metadata": {},
   "source": [
    "### A denote the event taht the patient was treated with ribavirin and B denote the event that the response was complete.\n",
    "***"
   ]
  },
  {
   "cell_type": "markdown",
   "metadata": {},
   "source": [
    "### Item a. P(A)"
   ]
  },
  {
   "cell_type": "code",
   "execution_count": 6,
   "metadata": {},
   "outputs": [
    {
     "name": "stdout",
     "output_type": "stream",
     "text": [
      "The probability that the patient was treated with ribavirin is 0.35\n"
     ]
    }
   ],
   "source": [
    "P_A = patients.loc['Ribavirin', 'Total'] / patients.sum().Total\n",
    "print(f'The probability that the patient was treated with ribavirin is {P_A:.2f}')"
   ]
  },
  {
   "cell_type": "markdown",
   "metadata": {},
   "source": [
    "### Item b. P(A$\\cap$B)"
   ]
  },
  {
   "cell_type": "code",
   "execution_count": 10,
   "metadata": {},
   "outputs": [
    {
     "name": "stdout",
     "output_type": "stream",
     "text": [
      "The probability that the patient was treated with ribavirin and the response was complete is 0.27\n"
     ]
    }
   ],
   "source": [
    "P_AinterB = patients.loc['Ribavirin', 'Complete_Response'] / patients.sum().Total\n",
    "print(f'The probability that the patient was treated with ribavirin and the response was complete is {P_AinterB:.2f}')"
   ]
  },
  {
   "cell_type": "markdown",
   "metadata": {},
   "source": [
    "### Item c. P(A$\\cup$B)"
   ]
  },
  {
   "cell_type": "code",
   "execution_count": 13,
   "metadata": {},
   "outputs": [
    {
     "name": "stdout",
     "output_type": "stream",
     "text": [
      "The probability that the patient was treated with ribadavirin or the response was complete is 0.45\n"
     ]
    }
   ],
   "source": [
    "P_AunionB = (patients.loc['Interferon','Complete_Response'] + patients.loc['Ribavirin', 'Total']) / patients.sum().Total\n",
    "print(f'The probability that the patient was treated with ribadavirin or the response was complete is {P_AunionB:.2f}')"
   ]
  },
  {
   "cell_type": "markdown",
   "metadata": {},
   "source": [
    "### Item d. P(A'$\\cap$B')"
   ]
  },
  {
   "cell_type": "code",
   "execution_count": 21,
   "metadata": {},
   "outputs": [
    {
     "name": "stdout",
     "output_type": "stream",
     "text": [
      "The probability that the patient does not have treated with ribavirin neither response complete is 0.55\n"
     ]
    }
   ],
   "source": [
    "P_NAinterNB = (patients.loc['Interferon', 'Total'] - patients.loc['Interferon', 'Complete_Response']\n",
    "+ patients.loc['Untreated', 'Total']) / patients.sum().Total\n",
    "print(f'The probability that the patient does not have treated with ribavirin neither response complete is {P_NAinterNB:.2f}')"
   ]
  }
 ],
 "metadata": {
  "kernelspec": {
   "display_name": "Python 3",
   "language": "python",
   "name": "python3"
  },
  "language_info": {
   "codemirror_mode": {
    "name": "ipython",
    "version": 3
   },
   "file_extension": ".py",
   "mimetype": "text/x-python",
   "name": "python",
   "nbconvert_exporter": "python",
   "pygments_lexer": "ipython3",
   "version": "3.7.6"
  }
 },
 "nbformat": 4,
 "nbformat_minor": 4
}
