{
 "cells": [
  {
   "cell_type": "markdown",
   "metadata": {},
   "source": [
    "# Problem 124 from chapter 02\n",
    "***"
   ]
  },
  {
   "cell_type": "code",
   "execution_count": 1,
   "metadata": {},
   "outputs": [],
   "source": [
    "from pandas import DataFrame"
   ]
  },
  {
   "cell_type": "code",
   "execution_count": 3,
   "metadata": {},
   "outputs": [
    {
     "name": "stdout",
     "output_type": "stream",
     "text": [
      "            Fails\n",
      "Coton(70%)   0.02\n",
      "Nylon(30%)   0.03\n"
     ]
    }
   ],
   "source": [
    "rolls = DataFrame({'Fails': [0.02, 0.03]}, index = ['Coton(70%)', 'Nylon(30%)'])\n",
    "print(rolls)"
   ]
  },
  {
   "cell_type": "markdown",
   "metadata": {},
   "source": [
    "**P(Coton$\\cap$Fails) + P(Nylon$\\cap$Fails) = P(Fails|Coton) x P(Coton) + P(Fails|Nylon) x P(Nylon) = 2% x 70% + 3% x 30% = 2.3%**"
   ]
  }
 ],
 "metadata": {
  "kernelspec": {
   "display_name": "Python 3",
   "language": "python",
   "name": "python3"
  },
  "language_info": {
   "codemirror_mode": {
    "name": "ipython",
    "version": 3
   },
   "file_extension": ".py",
   "mimetype": "text/x-python",
   "name": "python",
   "nbconvert_exporter": "python",
   "pygments_lexer": "ipython3",
   "version": "3.7.6"
  }
 },
 "nbformat": 4,
 "nbformat_minor": 4
}
