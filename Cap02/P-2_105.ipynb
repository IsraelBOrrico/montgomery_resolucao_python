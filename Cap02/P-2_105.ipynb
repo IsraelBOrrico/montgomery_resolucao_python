{
 "cells": [
  {
   "cell_type": "markdown",
   "metadata": {},
   "source": [
    "# Problem 2-105 from chapter 02\n",
    "***"
   ]
  },
  {
   "cell_type": "code",
   "execution_count": 1,
   "metadata": {},
   "outputs": [],
   "source": [
    "from pandas import DataFrame"
   ]
  },
  {
   "cell_type": "code",
   "execution_count": 3,
   "metadata": {},
   "outputs": [
    {
     "name": "stdout",
     "output_type": "stream",
     "text": [
      "              High  Low\n",
      "Putrefaction           \n",
      "High            14   59\n",
      "Low             18    9\n"
     ]
    }
   ],
   "source": [
    "beetles = DataFrame({'High': [14, 18], 'Low': [59, 9]}, index = ['High', 'Low'])\n",
    "beetles.index.name = 'Putrefaction'\n",
    "print(beetles)"
   ]
  },
  {
   "cell_type": "markdown",
   "metadata": {},
   "source": [
    "***"
   ]
  },
  {
   "cell_type": "markdown",
   "metadata": {},
   "source": [
    "### Definitions\n",
    "A denote the event that the autolysis of a sample is high<br/>\n",
    "B denote the event that the putrefaction of a sample is high<br/>\n",
    "C denote the event that the autolisys of a sample is low<br/>\n",
    "D denote the event that the putrefaction of a sapme is low\n",
    "***"
   ]
  },
  {
   "cell_type": "markdown",
   "metadata": {},
   "source": [
    "### Item a. P(D|A"
   ]
  }
 ],
 "metadata": {
  "kernelspec": {
   "display_name": "Python 3",
   "language": "python",
   "name": "python3"
  },
  "language_info": {
   "codemirror_mode": {
    "name": "ipython",
    "version": 3
   },
   "file_extension": ".py",
   "mimetype": "text/x-python",
   "name": "python",
   "nbconvert_exporter": "python",
   "pygments_lexer": "ipython3",
   "version": "3.7.6"
  }
 },
 "nbformat": 4,
 "nbformat_minor": 4
}
