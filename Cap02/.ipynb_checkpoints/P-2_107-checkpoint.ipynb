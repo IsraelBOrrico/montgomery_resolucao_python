{
 "cells": [
  {
   "cell_type": "markdown",
   "metadata": {},
   "source": [
    "# Problem 2-107 from chapter 02\n",
    "***"
   ]
  },
  {
   "cell_type": "code",
   "execution_count": 3,
   "metadata": {},
   "outputs": [],
   "source": [
    "import math"
   ]
  },
  {
   "cell_type": "markdown",
   "metadata": {},
   "source": [
    "### There are 100 semiconductor chips and 20 are defective.\n",
    "***"
   ]
  },
  {
   "cell_type": "markdown",
   "metadata": {},
   "source": [
    "### Item a. Probability that the first one is defective"
   ]
  },
  {
   "cell_type": "code",
   "execution_count": 1,
   "metadata": {},
   "outputs": [
    {
     "name": "stdout",
     "output_type": "stream",
     "text": [
      "The probability that the first one is defective is 0.20\n"
     ]
    }
   ],
   "source": [
    "P_first = 20 / 100\n",
    "print(f'The probability that the first one is defective is {P_first:.2f}')"
   ]
  },
  {
   "cell_type": "markdown",
   "metadata": {},
   "source": [
    "***"
   ]
  },
  {
   "cell_type": "markdown",
   "metadata": {},
   "source": [
    "### Item b. Probability that the second one is defective given that the first one was defective"
   ]
  },
  {
   "cell_type": "code",
   "execution_count": 2,
   "metadata": {},
   "outputs": [
    {
     "name": "stdout",
     "output_type": "stream",
     "text": [
      "The probability that the second ond is defective given that the first one was defective is 0.19\n"
     ]
    }
   ],
   "source": [
    "P_second_given_first = 19 / 99\n",
    "print(f'The probability that the second ond is defective given that the first one was defective is {P_second_given_first:.2f}')"
   ]
  },
  {
   "cell_type": "markdown",
   "metadata": {},
   "source": [
    "***"
   ]
  },
  {
   "cell_type": "markdown",
   "metadata": {},
   "source": [
    "### Item c. Probability that both are defective"
   ]
  },
  {
   "cell_type": "code",
   "execution_count": 5,
   "metadata": {},
   "outputs": [
    {
     "name": "stdout",
     "output_type": "stream",
     "text": [
      "The probability that both are defective is 0.04\n"
     ]
    }
   ],
   "source": [
    "P_both = math.factorial(20)/math.factorial(18)/math.factorial(2) / (math.factorial(100)/math.factorial(98)/math.factorial(2))\n",
    "print(f'The probability that both are defective is {P_both:.2f}')"
   ]
  },
  {
   "cell_type": "markdown",
   "metadata": {},
   "source": [
    "***"
   ]
  },
  {
   "cell_type": "markdown",
   "metadata": {},
   "source": [
    "### Item d. The change in the item b if the chips selected were replaced prior to the next selection"
   ]
  },
  {
   "cell_type": "code",
   "execution_count": 6,
   "metadata": {},
   "outputs": [
    {
     "name": "stdout",
     "output_type": "stream",
     "text": [
      "The changed result to item b if the chips selected were replaced prior to the next selection is 0.20\n"
     ]
    }
   ],
   "source": [
    "P_prior = 20 / 100\n",
    "print(f'The changed result to item b if the chips selected were replaced prior to the next selection is {P_prior:.2f}')"
   ]
  }
 ],
 "metadata": {
  "kernelspec": {
   "display_name": "Python 3",
   "language": "python",
   "name": "python3"
  },
  "language_info": {
   "codemirror_mode": {
    "name": "ipython",
    "version": 3
   },
   "file_extension": ".py",
   "mimetype": "text/x-python",
   "name": "python",
   "nbconvert_exporter": "python",
   "pygments_lexer": "ipython3",
   "version": "3.7.6"
  }
 },
 "nbformat": 4,
 "nbformat_minor": 4
}
