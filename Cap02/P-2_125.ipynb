{
 "cells": [
  {
   "cell_type": "markdown",
   "metadata": {},
   "source": [
    "## Problem 125 from chapter 02\n",
    "***"
   ]
  },
  {
   "cell_type": "code",
   "execution_count": 1,
   "metadata": {},
   "outputs": [],
   "source": [
    "from pandas import DataFrame"
   ]
  },
  {
   "cell_type": "code",
   "execution_count": 2,
   "metadata": {},
   "outputs": [
    {
     "name": "stdout",
     "output_type": "stream",
     "text": [
      "              roughness\n",
      "New(25%)           0.01\n",
      "Average(60%)       0.03\n",
      "Worn(15%)          0.05\n"
     ]
    }
   ],
   "source": [
    "rough = DataFrame({'roughness': [0.01, 0.03, 0.05]}, index = ['New(25%)', 'Average(60%)', 'Worn(15%)'])\n",
    "print(rough)"
   ]
  },
  {
   "cell_type": "markdown",
   "metadata": {},
   "source": [
    "**P(roughness$\\cap$New) + P(roughness$\\cap$Average) + P(roughness$\\cap$Average) = P(roughness|New) x P(New) + P(roughness|Average) x P(Average) + P(roughness|Worn) x P(Worn) = 1% x 25% + 3% x 60% + 5% x 15% = 2.8%"
   ]
  }
 ],
 "metadata": {
  "kernelspec": {
   "display_name": "Python 3",
   "language": "python",
   "name": "python3"
  },
  "language_info": {
   "codemirror_mode": {
    "name": "ipython",
    "version": 3
   },
   "file_extension": ".py",
   "mimetype": "text/x-python",
   "name": "python",
   "nbconvert_exporter": "python",
   "pygments_lexer": "ipython3",
   "version": "3.7.6"
  }
 },
 "nbformat": 4,
 "nbformat_minor": 4
}
