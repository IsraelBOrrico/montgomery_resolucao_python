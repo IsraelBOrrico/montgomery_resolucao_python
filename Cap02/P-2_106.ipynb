{
 "cells": [
  {
   "cell_type": "markdown",
   "metadata": {},
   "source": [
    "# Problem 2-106 from chapter 02\n",
    "***"
   ]
  },
  {
   "cell_type": "code",
   "execution_count": 1,
   "metadata": {},
   "outputs": [],
   "source": [
    "from pandas import DataFrame"
   ]
  },
  {
   "cell_type": "code",
   "execution_count": 3,
   "metadata": {},
   "outputs": [
    {
     "name": "stdout",
     "output_type": "stream",
     "text": [
      "Evidence of Gas Leaks           Yes  No\n",
      "Evidence of electrical failure         \n",
      "Yes                              55  17\n",
      "No                               32   3\n"
     ]
    }
   ],
   "source": [
    "air = DataFrame({'Yes': [55, 32], 'No': [17, 3]}, index = ['Yes', 'No'])\n",
    "air.columns.name, air.index.name = ('Evidence of Gas Leaks', 'Evidence of electrical failure')\n",
    "print(air)"
   ]
  },
  {
   "cell_type": "code",
   "execution_count": null,
   "metadata": {},
   "outputs": [],
   "source": []
  }
 ],
 "metadata": {
  "kernelspec": {
   "display_name": "Python 3",
   "language": "python",
   "name": "python3"
  },
  "language_info": {
   "codemirror_mode": {
    "name": "ipython",
    "version": 3
   },
   "file_extension": ".py",
   "mimetype": "text/x-python",
   "name": "python",
   "nbconvert_exporter": "python",
   "pygments_lexer": "ipython3",
   "version": "3.7.6"
  }
 },
 "nbformat": 4,
 "nbformat_minor": 4
}
