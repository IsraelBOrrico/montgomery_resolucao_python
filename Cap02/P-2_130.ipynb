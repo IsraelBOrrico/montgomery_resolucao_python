{
 "cells": [
  {
   "cell_type": "markdown",
   "metadata": {},
   "source": [
    "# Problem 130 from chapter 02\n",
    "***"
   ]
  },
  {
   "cell_type": "markdown",
   "metadata": {},
   "source": [
    "### About the problem: There is a lot of 100 semiconductor chips that contais 20 that are defective."
   ]
  },
  {
   "cell_type": "markdown",
   "metadata": {},
   "source": [
    "### Item a. P(second yes $\\cap$ first yes) + P(second yes $\\cap$ first not) = P(second yes|first yes) x P(first yes) + P(second yes|first not) x P(first not) = 19 / 99 x 20 / 100 + 20 / 99 x 80 / 100 = 20%\n",
    "***"
   ]
  },
  {
   "cell_type": "markdown",
   "metadata": {},
   "source": [
    "### Item b. P(first yes $\\cap$ second yes $\\cap$ third yes) = P(third yes| second yes $\\cap$ first yes) x P(second yes $\\cap$ first yes) = P(third yes| second yes $\\cap$ first yes) x (P(second yes|first yes) x P(first yes)) = <br>18 / 98 x (19 / 99 x 20 / 100) = 0.7 %"
   ]
  }
 ],
 "metadata": {
  "kernelspec": {
   "display_name": "Python 3",
   "language": "python",
   "name": "python3"
  },
  "language_info": {
   "codemirror_mode": {
    "name": "ipython",
    "version": 3
   },
   "file_extension": ".py",
   "mimetype": "text/x-python",
   "name": "python",
   "nbconvert_exporter": "python",
   "pygments_lexer": "ipython3",
   "version": "3.7.6"
  }
 },
 "nbformat": 4,
 "nbformat_minor": 4
}
