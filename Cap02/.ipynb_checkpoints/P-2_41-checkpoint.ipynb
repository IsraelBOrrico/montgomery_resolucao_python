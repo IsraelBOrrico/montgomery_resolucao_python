{
 "cells": [
  {
   "cell_type": "markdown",
   "metadata": {},
   "source": [
    "# Problem 41 from chapter 02\n",
    "***"
   ]
  },
  {
   "cell_type": "markdown",
   "metadata": {},
   "source": [
    "### 140 semiconductor chips, with 10 not conform. A sample of 5 chips is chose."
   ]
  },
  {
   "cell_type": "code",
   "execution_count": 1,
   "metadata": {},
   "outputs": [],
   "source": [
    "from math import factorial"
   ]
  },
  {
   "cell_type": "code",
   "execution_count": 11,
   "metadata": {},
   "outputs": [],
   "source": [
    "def comb(p, r):\n",
    "    c = factorial(p) / factorial(p - r) / factorial(r)\n",
    "    return c"
   ]
  },
  {
   "cell_type": "markdown",
   "metadata": {},
   "source": [
    "### Item a."
   ]
  },
  {
   "cell_type": "code",
   "execution_count": 12,
   "metadata": {},
   "outputs": [
    {
     "name": "stdout",
     "output_type": "stream",
     "text": [
      "There are 416965528.0 samples possible.\n"
     ]
    }
   ],
   "source": [
    "samp = comb(140, 5)\n",
    "print(f'There are {samp} samples possible.')"
   ]
  },
  {
   "cell_type": "code",
   "execution_count": 13,
   "metadata": {},
   "outputs": [
    {
     "name": "stdout",
     "output_type": "stream",
     "text": [
      "There are 113588800.0 samples of five contain exactly one nonconforming chip.\n"
     ]
    }
   ],
   "source": [
    "samp = comb(10, 1) * comb(130, 4)\n",
    "print(f'There are {samp} samples of five that contain exactly one nonconforming chip.')"
   ]
  },
  {
   "cell_type": "code",
   "execution_count": 16,
   "metadata": {},
   "outputs": [
    {
     "name": "stdout",
     "output_type": "stream",
     "text": [
      "There are 130721752.0 samples that contain at least one conconforming chip.\n"
     ]
    }
   ],
   "source": [
    "samp = (comb(10, 1) * comb(130, 4) + comb(10, 2) * comb(130, 3) + comb(10, 3) * comb(130, 2)\n",
    "+ comb(10, 4) * comb(130, 1) + comb(10, 5) * comb(130, 0))\n",
    "print(f'There are {samp} samples that contain at least one conconforming chip.')"
   ]
  }
 ],
 "metadata": {
  "kernelspec": {
   "display_name": "Python 3",
   "language": "python",
   "name": "python3"
  },
  "language_info": {
   "codemirror_mode": {
    "name": "ipython",
    "version": 3
   },
   "file_extension": ".py",
   "mimetype": "text/x-python",
   "name": "python",
   "nbconvert_exporter": "python",
   "pygments_lexer": "ipython3",
   "version": "3.7.6"
  }
 },
 "nbformat": 4,
 "nbformat_minor": 4
}
