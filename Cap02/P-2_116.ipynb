{
 "cells": [
  {
   "cell_type": "markdown",
   "metadata": {},
   "source": [
    "# Problem 116 from chapter 02\n",
    "***"
   ]
  },
  {
   "cell_type": "code",
   "execution_count": 105,
   "metadata": {},
   "outputs": [],
   "source": [
    "from pandas import DataFrame\n",
    "import numpy as np"
   ]
  },
  {
   "cell_type": "code",
   "execution_count": 77,
   "metadata": {},
   "outputs": [
    {
     "name": "stdout",
     "output_type": "stream",
     "text": [
      "        Eggs  Early_Larvae  Late_Larvae  Pre-pupae  Late_Pupae  Adults\n",
      "Values   421           412          306         45          35      31\n"
     ]
    }
   ],
   "source": [
    "alf = DataFrame({'Eggs': 421, 'Early_Larvae': 412, 'Late_Larvae': 306, 'Pre-pupae': 45, 'Late_Pupae': 35, 'Adults': 31},\n",
    "                index = ['Values'])\n",
    "print(alf)"
   ]
  },
  {
   "cell_type": "markdown",
   "metadata": {},
   "source": [
    "***"
   ]
  },
  {
   "cell_type": "markdown",
   "metadata": {},
   "source": [
    "### Item a. P(Adult|Egg)"
   ]
  },
  {
   "cell_type": "code",
   "execution_count": 71,
   "metadata": {},
   "outputs": [
    {
     "name": "stdout",
     "output_type": "stream",
     "text": [
      "The probability that an egg survives to adulthood is 0.07\n"
     ]
    }
   ],
   "source": [
    "P_AdultgivenEgg = alf.Adults.Values / alf.Eggs.Values\n",
    "print(f'The probability that an egg survives to adulthood is {P_AdultgivenEgg:.2f}')"
   ]
  },
  {
   "cell_type": "markdown",
   "metadata": {},
   "source": [
    "***"
   ]
  },
  {
   "cell_type": "markdown",
   "metadata": {},
   "source": [
    "### Item b. P(Adult|Late Larvae)"
   ]
  },
  {
   "cell_type": "code",
   "execution_count": 72,
   "metadata": {},
   "outputs": [
    {
     "name": "stdout",
     "output_type": "stream",
     "text": [
      "The probability that an late larvae survival to adulthood is 0.10\n"
     ]
    }
   ],
   "source": [
    "P_AdultgivenLateLarvae = alf.Adults.Values / alf.Late_Larvae.Values\n",
    "print(f'The probability that an late larvae survival to adulthood is {P_AdultgivenLateLarvae:.2f}')"
   ]
  },
  {
   "cell_type": "markdown",
   "metadata": {},
   "source": [
    "***"
   ]
  },
  {
   "cell_type": "markdown",
   "metadata": {},
   "source": [
    "### Item c. The stage that  has the lowest probability of survival to the next stage"
   ]
  },
  {
   "cell_type": "code",
   "execution_count": 112,
   "metadata": {},
   "outputs": [],
   "source": [
    "def lowerP(frame):\n",
    "    columns = list(frame.columns)\n",
    "    P_rate = {}\n",
    "    for x in range((len(columns) - 1), 1, -1):\n",
    "        P_rate[columns[x] + '/' + columns[x - 1]] = frame[columns[x]][0] / frame[columns[x - 1]][0]\n",
    "    values = list(P_rate.values())\n",
    "    keys = list(P_rate.keys())\n",
    "    index_min = np.argmin(values)\n",
    "    min_value = min(values)\n",
    "    stages = keys[index_min]\n",
    "    return min_value, stages"
   ]
  },
  {
   "cell_type": "code",
   "execution_count": 113,
   "metadata": {},
   "outputs": [],
   "source": [
    "lowest = lowerP(alf)"
   ]
  },
  {
   "cell_type": "code",
   "execution_count": 117,
   "metadata": {},
   "outputs": [
    {
     "name": "stdout",
     "output_type": "stream",
     "text": [
      "The stage that has the lowest probability of survival to the next stage is Pre-pupae/Late_Larvae \n",
      "and the probability is 0.15\n"
     ]
    }
   ],
   "source": [
    "print(f'''The stage that has the lowest probability of survival to the next stage is {lowest[1]} \n",
    "and the probability is {lowest[0]:.2f}''')"
   ]
  },
  {
   "cell_type": "code",
   "execution_count": 109,
   "metadata": {},
   "outputs": [],
   "source": [
    "P_lowest = lowerP(alf)\n",
    "values = list(P_lowest.values())\n",
    "keys = list(P_lowest.keys())\n",
    "index_min = np.argmin(values)"
   ]
  }
 ],
 "metadata": {
  "kernelspec": {
   "display_name": "Python 3",
   "language": "python",
   "name": "python3"
  },
  "language_info": {
   "codemirror_mode": {
    "name": "ipython",
    "version": 3
   },
   "file_extension": ".py",
   "mimetype": "text/x-python",
   "name": "python",
   "nbconvert_exporter": "python",
   "pygments_lexer": "ipython3",
   "version": "3.7.6"
  }
 },
 "nbformat": 4,
 "nbformat_minor": 4
}
