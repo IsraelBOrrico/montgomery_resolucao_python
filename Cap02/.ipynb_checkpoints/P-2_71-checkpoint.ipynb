{
 "cells": [
  {
   "cell_type": "markdown",
   "metadata": {},
   "source": [
    "# Problem 71 from chapter 02\n",
    "***"
   ]
  },
  {
   "cell_type": "code",
   "execution_count": 1,
   "metadata": {},
   "outputs": [],
   "source": [
    "from pandas import DataFrame"
   ]
  },
  {
   "cell_type": "code",
   "execution_count": 2,
   "metadata": {},
   "outputs": [
    {
     "name": "stdout",
     "output_type": "stream",
     "text": [
      "Conforms  Yes  No\n",
      "Supplier         \n",
      "1          22   8\n",
      "2          25   5\n",
      "3          30  10\n"
     ]
    }
   ],
   "source": [
    "samples = DataFrame({'Yes': [22, 25, 30], 'No': [8, 5, 10]}, index = [1, 2, 3])\n",
    "samples.index.name = 'Supplier'\n",
    "samples.columns.name = 'Conforms'\n",
    "print(samples)"
   ]
  },
  {
   "cell_type": "markdown",
   "metadata": {},
   "source": [
    "### A denote the eevnt that a sample is from supplier 1, and B denote the event that a sample conforms to specifications."
   ]
  },
  {
   "cell_type": "markdown",
   "metadata": {},
   "source": [
    "### Item a. P(A)"
   ]
  },
  {
   "cell_type": "code",
   "execution_count": 8,
   "metadata": {},
   "outputs": [
    {
     "name": "stdout",
     "output_type": "stream",
     "text": [
      "The probability that a sample is from supplier 1 is 0.3\n"
     ]
    }
   ],
   "source": [
    "P_A = samples.sum(axis = 1).loc[1] / samples.sum().sum()\n",
    "print(f'The probability that a sample is from supplier 1 is {P_A}')"
   ]
  },
  {
   "cell_type": "markdown",
   "metadata": {},
   "source": [
    "### Item b. P(B)"
   ]
  },
  {
   "cell_type": "code",
   "execution_count": 9,
   "metadata": {},
   "outputs": [
    {
     "name": "stdout",
     "output_type": "stream",
     "text": [
      "The probability that a the sample conforms to specifications is 0.77\n"
     ]
    }
   ],
   "source": [
    "P_B = samples.sum().Yes / samples.sum().sum()\n",
    "print(f'The probability that a the sample conforms to specifications is {P_B:.2f}')"
   ]
  },
  {
   "cell_type": "markdown",
   "metadata": {},
   "source": [
    "### Item c. P(A')"
   ]
  },
  {
   "cell_type": "code",
   "execution_count": 13,
   "metadata": {},
   "outputs": [
    {
     "name": "stdout",
     "output_type": "stream",
     "text": [
      "The probability that a sample belongs to the complementary of A is 0.70\n"
     ]
    }
   ],
   "source": [
    "P_Acomplementary = samples.loc[2:3, :].sum().sum() / samples.sum().sum()\n",
    "print(f'The probability that a sample belongs to the complementary of A is {P_Acomplementary:.2f}')"
   ]
  },
  {
   "cell_type": "markdown",
   "metadata": {},
   "source": [
    "### Item d. P(A$\\cap$B)"
   ]
  },
  {
   "cell_type": "code",
   "execution_count": 14,
   "metadata": {},
   "outputs": [
    {
     "name": "stdout",
     "output_type": "stream",
     "text": [
      "The probability that the sample belongs to the supplier 1 and is conform to specifications is 0.22\n"
     ]
    }
   ],
   "source": [
    "P_AinterB = samples.Yes.loc[1] / samples.sum().sum()\n",
    "print(f'The probability that the sample belongs to the supplier 1 and is conform to specifications is {P_AinterB:.2f}')"
   ]
  },
  {
   "cell_type": "markdown",
   "metadata": {},
   "source": [
    "### Item e. P(A$\\cup$B)"
   ]
  },
  {
   "cell_type": "code",
   "execution_count": 27,
   "metadata": {},
   "outputs": [
    {
     "name": "stdout",
     "output_type": "stream",
     "text": [
      "The probability that tha sample belongs to supplier 1 or be conform to specifications is 0.85\n"
     ]
    }
   ],
   "source": [
    "P_AunionB = (samples.sum().Yes + samples.sum(axis = 1).loc[1] - samples.loc[1,'Yes']) / samples.sum().sum()\n",
    "print(f'The probability that tha sample belongs to supplier 1 or be conform to specifications is {P_AunionB:.2f}')"
   ]
  },
  {
   "cell_type": "markdown",
   "metadata": {},
   "source": [
    "### Item f. P(A'$\\cap$B)"
   ]
  },
  {
   "cell_type": "code",
   "execution_count": 31,
   "metadata": {},
   "outputs": [
    {
     "name": "stdout",
     "output_type": "stream",
     "text": [
      "The probability that the sample is conform specifications and do not belongs to the supplier 1 is 0.55\n"
     ]
    }
   ],
   "source": [
    "P_AlineinterB = samples.loc[2:3].sum().Yes / samples.sum().sum()\n",
    "print(f'The probability that the sample is conform specifications and do not belongs to the supplier 1 is {P_AlineinterB:.2f}')"
   ]
  }
 ],
 "metadata": {
  "kernelspec": {
   "display_name": "Python 3",
   "language": "python",
   "name": "python3"
  },
  "language_info": {
   "codemirror_mode": {
    "name": "ipython",
    "version": 3
   },
   "file_extension": ".py",
   "mimetype": "text/x-python",
   "name": "python",
   "nbconvert_exporter": "python",
   "pygments_lexer": "ipython3",
   "version": "3.7.6"
  }
 },
 "nbformat": 4,
 "nbformat_minor": 4
}
