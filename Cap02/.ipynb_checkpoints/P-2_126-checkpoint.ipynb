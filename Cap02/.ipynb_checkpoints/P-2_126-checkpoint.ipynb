{
 "cells": [
  {
   "cell_type": "markdown",
   "metadata": {},
   "source": [
    "# Problem 126 from chapter 02\n",
    "***"
   ]
  },
  {
   "cell_type": "code",
   "execution_count": 2,
   "metadata": {},
   "outputs": [],
   "source": [
    "from pandas import DataFrame"
   ]
  },
  {
   "cell_type": "code",
   "execution_count": 3,
   "metadata": {},
   "outputs": [
    {
     "name": "stdout",
     "output_type": "stream",
     "text": [
      "                          Obama  Romney\n",
      "Total                                  \n",
      "No college degree (0.60)   0.52    0.45\n",
      "College graduate (0.40)    0.47    0.51\n"
     ]
    }
   ],
   "source": [
    "votes = DataFrame({'Obama': [0.52, 0.47], 'Romney': [0.45, 0.51]}, index = ['No college degree (0.60)',\n",
    "                                                                            'College graduate (0.40)'])\n",
    "votes.index.name = 'Total'\n",
    "print(votes)"
   ]
  },
  {
   "cell_type": "markdown",
   "metadata": {},
   "source": [
    "**The probability that a respondent voted in Obama given that its belongs no college degree group is P(Obama|No college degree) = 52%.<br> The probability that a respondent belongs to no college degree group is P(No college degree) = 60%.<br>Then, the probability that a respondente belongs to no college degree group and voted in obama is P(No college degree $\\cap$ Obama) = P(Obama|No college degree) x P(No college degree) = 52% x 47% = 32.2%**"
   ]
  },
  {
   "cell_type": "markdown",
   "metadata": {},
   "source": [
    "**Analogous to the respondent that belongs to college graduate and voted in Obama.<br>P(College graduate $\\cap$ Obama) = P(Obama|College graduate) x P(College graduate) = 47% x 40% = 18.8%**"
   ]
  },
  {
   "cell_type": "markdown",
   "metadata": {},
   "source": [
    "**So the probability that a respondent voted for Obama is P(No college degree $\\cap$ Obama) + P(College graduate $\\cap$ Obama) = 32.2% + 18.8% = 51%**"
   ]
  }
 ],
 "metadata": {
  "kernelspec": {
   "display_name": "Python 3",
   "language": "python",
   "name": "python3"
  },
  "language_info": {
   "codemirror_mode": {
    "name": "ipython",
    "version": 3
   },
   "file_extension": ".py",
   "mimetype": "text/x-python",
   "name": "python",
   "nbconvert_exporter": "python",
   "pygments_lexer": "ipython3",
   "version": "3.7.6"
  }
 },
 "nbformat": 4,
 "nbformat_minor": 4
}
