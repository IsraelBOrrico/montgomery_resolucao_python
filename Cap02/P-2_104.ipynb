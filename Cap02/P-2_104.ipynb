{
 "cells": [
  {
   "cell_type": "markdown",
   "metadata": {},
   "source": [
    "# Problem 2-104 from chapter 02\n",
    "***"
   ]
  },
  {
   "cell_type": "code",
   "execution_count": 1,
   "metadata": {},
   "outputs": [],
   "source": [
    "from pandas import DataFrame"
   ]
  },
  {
   "cell_type": "code",
   "execution_count": 41,
   "metadata": {},
   "outputs": [
    {
     "name": "stdout",
     "output_type": "stream",
     "text": [
      "                                   Center  Edge  Totals\n",
      "Number of Contamination Particles                      \n",
      "0                                    0.30  0.10    0.40\n",
      "1                                    0.15  0.05    0.20\n",
      "2                                    0.10  0.05    0.15\n",
      "3                                    0.06  0.04    0.10\n",
      "4                                    0.04  0.01    0.05\n",
      "5 or more                            0.07  0.03    0.10\n",
      "Totals                               0.72  0.28    1.00\n"
     ]
    }
   ],
   "source": [
    "# Creating the table\n",
    "wafers = DataFrame({'Center': [0.3, 0.15, 0.10, 0.06, 0.04, 0.07], 'Edge': [0.10, 0.05, 0.05, 0.04, 0.01, 0.03]},\n",
    "                  index = [0, 1, 2, 3, 4, '5 or more'])\n",
    "# Obtaining the totals numbers of contamination particles\n",
    "wafers['Totals'] = wafers.sum(axis = 1)\n",
    "\n",
    "# Obtaining the totals by category\n",
    "wafers.loc['Totals','Center': 'Totals'] = wafers.sum() # O loc cria a linha caso ela não exista.\n",
    "\n",
    "# Putting a name on the index\n",
    "wafers.index.name = 'Number of Contamination Particles'\n",
    "\n",
    "print(wafers)"
   ]
  },
  {
   "cell_type": "markdown",
   "metadata": {},
   "source": [
    "***"
   ]
  },
  {
   "cell_type": "markdown",
   "metadata": {},
   "source": [
    "## Definition of variables"
   ]
  },
  {
   "cell_type": "code",
   "execution_count": 25,
   "metadata": {},
   "outputs": [],
   "source": [
    "# A denote the event that a wafer contais four or more particles\n",
    "# B denote the event that a wafer if from the center\n",
    "# C denote the intersection between A and B\n",
    "# E denote the occurrence of A given B\n",
    "# F denote the occurrence of B given A\n",
    "# G denote the union between A and B"
   ]
  },
  {
   "cell_type": "markdown",
   "metadata": {},
   "source": [
    "***"
   ]
  },
  {
   "cell_type": "markdown",
   "metadata": {},
   "source": [
    "### Item a. P(A)"
   ]
  },
  {
   "cell_type": "code",
   "execution_count": 35,
   "metadata": {},
   "outputs": [
    {
     "name": "stdout",
     "output_type": "stream",
     "text": [
      "P(A) is 0.15\n"
     ]
    }
   ],
   "source": [
    "P_A = wafers.iloc[4:6, 2].sum() / wafers.Totals.Totals\n",
    "print(f'P(A) is {P_A:.2f}')"
   ]
  },
  {
   "cell_type": "markdown",
   "metadata": {},
   "source": [
    "***"
   ]
  },
  {
   "cell_type": "markdown",
   "metadata": {},
   "source": [
    "### Item b. P(A|B)"
   ]
  },
  {
   "cell_type": "code",
   "execution_count": 42,
   "metadata": {},
   "outputs": [
    {
     "name": "stdout",
     "output_type": "stream",
     "text": [
      "P(A|B) is 0.15\n"
     ]
    }
   ],
   "source": [
    "P_E = wafers.iloc[4:6, 0].sum() / wafers.Center.Totals # Use of the concept of conditional probability.\n",
    "print(f'P(A|B) is {P_E:.2f}')"
   ]
  },
  {
   "cell_type": "markdown",
   "metadata": {},
   "source": [
    "***"
   ]
  },
  {
   "cell_type": "markdown",
   "metadata": {},
   "source": [
    "### Item c. P(B)"
   ]
  },
  {
   "cell_type": "code",
   "execution_count": 43,
   "metadata": {},
   "outputs": [
    {
     "name": "stdout",
     "output_type": "stream",
     "text": [
      "P(B) is 0.72\n"
     ]
    }
   ],
   "source": [
    "P_B = wafers.Center.Totals / wafers.Totals.Totals\n",
    "print(f'P(B) is {P_B:.2f}')"
   ]
  },
  {
   "cell_type": "markdown",
   "metadata": {},
   "source": [
    "***"
   ]
  },
  {
   "cell_type": "markdown",
   "metadata": {},
   "source": [
    "### Item d. P(B|A)"
   ]
  },
  {
   "cell_type": "code",
   "execution_count": 40,
   "metadata": {},
   "outputs": [
    {
     "name": "stdout",
     "output_type": "stream",
     "text": [
      "P(B|A) is 0.73\n"
     ]
    }
   ],
   "source": [
    "P_F = wafers.iloc[4:6, 0].sum() / wafers.iloc[4:6, 2].sum()\n",
    "print(f'P(B|A) is {P_F:.2f}')"
   ]
  },
  {
   "cell_type": "markdown",
   "metadata": {},
   "source": [
    "***"
   ]
  },
  {
   "cell_type": "markdown",
   "metadata": {},
   "source": [
    "### Item e. P(A $\\cap$ B)"
   ]
  },
  {
   "cell_type": "code",
   "execution_count": 44,
   "metadata": {},
   "outputs": [
    {
     "name": "stdout",
     "output_type": "stream",
     "text": [
      "The intersection between A and B is 0.11\n"
     ]
    }
   ],
   "source": [
    "P_AinterB = wafers.iloc[4:6, 0].sum() / wafers.Totals.Totals\n",
    "print(f'The intersection between A and B is {P_AinterB:.2f}')"
   ]
  },
  {
   "cell_type": "markdown",
   "metadata": {},
   "source": [
    "***"
   ]
  },
  {
   "cell_type": "markdown",
   "metadata": {},
   "source": [
    "### Item f. P(A $\\cup$ B)"
   ]
  },
  {
   "cell_type": "code",
   "execution_count": 45,
   "metadata": {},
   "outputs": [
    {
     "name": "stdout",
     "output_type": "stream",
     "text": [
      "P(AUB) is 0.76\n"
     ]
    }
   ],
   "source": [
    "P_AUB = P_A + P_B - P_AinterB # Use of set propriety\n",
    "print(f'P(AUB) is {P_AUB:.2f}')"
   ]
  }
 ],
 "metadata": {
  "kernelspec": {
   "display_name": "Python 3",
   "language": "python",
   "name": "python3"
  },
  "language_info": {
   "codemirror_mode": {
    "name": "ipython",
    "version": 3
   },
   "file_extension": ".py",
   "mimetype": "text/x-python",
   "name": "python",
   "nbconvert_exporter": "python",
   "pygments_lexer": "ipython3",
   "version": "3.7.6"
  }
 },
 "nbformat": 4,
 "nbformat_minor": 4
}
